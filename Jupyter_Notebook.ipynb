{
 "cells": [
  {
   "cell_type": "markdown",
   "metadata": {},
   "source": [
    "<center>\n",
    "    <img src=\"https://cf-courses-data.s3.us.cloud-object-storage.appdomain.cloud/IBMDeveloperSkillsNetwork-DS0105EN-SkillsNetwork/labs/Module2/images/SN_web_lightmode.png\" width=\"300\" alt=\"cognitiveclass.ai logo\">\n",
    "</center>\n"
   ]
  },
  {
   "cell_type": "markdown",
   "metadata": {},
   "source": [
    "#### Add your code below following the instructions given in the course\n"
   ]
  },
  {
   "cell_type": "markdown",
   "metadata": {},
   "source": [
    "# Data Science Tools and Ecosystem\n"
   ]
  },
  {
   "cell_type": "markdown",
   "metadata": {},
   "source": [
    "In this notebook, Data Science Tools and Ecosystem are summarized."
   ]
  },
  {
   "attachments": {},
   "cell_type": "markdown",
   "metadata": {},
   "source": [
    "__Objectives:__\n",
    "\n",
    "The course __Tools for Data Science__ covers essential programming languages like __Python__, __R__, and __SQL__, along with key libraries such as __NumPy__, __Pandas__, __Matplotlib__ and __Scikit-Learn__ for data analysis and machine learning. The course also introduces development environments like __Jupyter Notebook__, __RStudio__, and __VS Code__, and explores powerful IBM tools such as __IBM Watson Studio__, __IBM Db2__, and __IBM SPSS__ for data management and AI. Additionally, it covers frameworks like __Apache Hadoop__ and __Spark__ for big data, databases like __IBM Db2__, __MySQL__, and __MongoDB__, and cloud platforms like __IBM Cloud__, __AWS__, and __Google Cloud__ for scalable projects. Collaboration tools like __GitHub__ and __Docker__ are also emphasized to enhance teamwork in data science projects."
   ]
  },
  {
   "cell_type": "markdown",
   "metadata": {},
   "source": [
    "List popular languages for Data Science :\n",
    "* Python\n",
    "* SQL\n",
    "* R\n",
    "* Scala"
   ]
  },
  {
   "cell_type": "markdown",
   "metadata": {},
   "source": [
    "Some of the popular languages that Data Scientists use are:\n",
    "1. __Python__ : Versatile, widely used for data analysis, machine learning\n",
    "3. __SQL__ : Essential for querying, managing, and analyzing structured databases\n",
    "4. __R__ : Best for statistical computing, data visualization, and research\n",
    "5. __Scala__ : Optimized for big data processing with Apache Spark, known for speed and scalability."
   ]
  },
  {
   "cell_type": "markdown",
   "metadata": {},
   "source": [
    "Some of the commonly used libraries used by Data Scientists include:\n",
    "1. __NumPy__ : Supports numerical computing and handling large arrays.\n",
    "2. __Pandas__ : Used for data manipulation and analysis.\n",
    "3. __Matplotlib__ : Basic data visualization (charts, plots).\n",
    "4. __Scikit-Learn__ : Machine learning algorithms and models.\n",
    "5. __TensorFlow__ : Deep learning and neural networks."
   ]
  },
  {
   "cell_type": "markdown",
   "metadata": {},
   "source": [
    "| Data Science Tools |\n",
    "|----|\n",
    "|Jupyter Notebook|\n",
    "|R Studio|\n",
    "|VS Code|"
   ]
  },
  {
   "cell_type": "markdown",
   "metadata": {},
   "source": [
    "### Below are a few examples of evaluating arithmetic expressions in Python."
   ]
  },
  {
   "cell_type": "code",
   "execution_count": 4,
   "metadata": {},
   "outputs": [
    {
     "data": {
      "text/plain": [
       "17"
      ]
     },
     "execution_count": 4,
     "metadata": {},
     "output_type": "execute_result"
    }
   ],
   "source": [
    "# This a simple arithmetic expression to multiply then add integers.\n",
    "(3*4)+5"
   ]
  },
  {
   "cell_type": "code",
   "execution_count": 6,
   "metadata": {},
   "outputs": [
    {
     "name": "stdout",
     "output_type": "stream",
     "text": [
      "3.3333333333333335\n"
     ]
    }
   ],
   "source": [
    "# This will convert 200 minutes to hours by diving by 60\n",
    "minutes = 200\n",
    "hours = minutes / 60\n",
    "print(hours)"
   ]
  },
  {
   "cell_type": "markdown",
   "metadata": {},
   "source": [
    "## Author\n",
    "Anouar El Qochairi"
   ]
  }
 ],
 "metadata": {
  "kernelspec": {
   "display_name": "Python 3 (ipykernel)",
   "language": "python",
   "name": "python3"
  },
  "language_info": {
   "codemirror_mode": {
    "name": "ipython",
    "version": 3
   },
   "file_extension": ".py",
   "mimetype": "text/x-python",
   "name": "python",
   "nbconvert_exporter": "python",
   "pygments_lexer": "ipython3",
   "version": "3.12.8"
  }
 },
 "nbformat": 4,
 "nbformat_minor": 4
}
